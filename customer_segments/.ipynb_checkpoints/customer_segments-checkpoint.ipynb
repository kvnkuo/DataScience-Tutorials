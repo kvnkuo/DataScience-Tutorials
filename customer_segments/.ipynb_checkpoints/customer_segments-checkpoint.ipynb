{
 "cells": [
  {
   "cell_type": "markdown",
   "metadata": {},
   "source": [
    "# Creating Customer Segments"
   ]
  },
  {
   "cell_type": "markdown",
   "metadata": {},
   "source": [
    "In this project you, will analyze a dataset containing annual spending amounts for internal structure, to understand the variation in the different types of customers that a wholesale distributor interacts with.\n",
    "\n",
    "Instructions:\n",
    "\n",
    "- Run each code block below by pressing **Shift+Enter**, making sure to implement any steps marked with a TODO.\n",
    "- Answer each question in the space provided by editing the blocks labeled \"Answer:\".\n",
    "- When you are done, submit the completed notebook (.ipynb) with all code blocks executed, as well as a .pdf version (File > Download as)."
   ]
  },
  {
   "cell_type": "code",
   "execution_count": 1,
   "metadata": {
    "collapsed": false
   },
   "outputs": [
    {
     "name": "stdout",
     "output_type": "stream",
     "text": [
      "Dataset has 440 rows, 6 columns\n",
      "   Fresh  Milk  Grocery  Frozen  Detergents_Paper  Delicatessen\n",
      "0  12669  9656     7561     214              2674          1338\n",
      "1   7057  9810     9568    1762              3293          1776\n",
      "2   6353  8808     7684    2405              3516          7844\n",
      "3  13265  1196     4221    6404               507          1788\n",
      "4  22615  5410     7198    3915              1777          5185\n"
     ]
    }
   ],
   "source": [
    "# Import libraries: NumPy, pandas, matplotlib\n",
    "import numpy as np\n",
    "import pandas as pd\n",
    "import matplotlib.pyplot as plt\n",
    "\n",
    "# Tell iPython to include plots inline in the notebook\n",
    "%matplotlib inline\n",
    "\n",
    "# Read dataset\n",
    "data = pd.read_csv(\"wholesale-customers.csv\")\n",
    "print \"Dataset has {} rows, {} columns\".format(*data.shape)\n",
    "print data.head()  # print the first 5 rows"
   ]
  },
  {
   "cell_type": "markdown",
   "metadata": {},
   "source": [
    "##Feature Transformation"
   ]
  },
  {
   "cell_type": "markdown",
   "metadata": {},
   "source": [
    "**1)** In this section you will be using PCA and ICA to start to understand the structure of the data. Before doing any computations, what do you think will show up in your computations? List one or two ideas for what might show up as the first PCA dimensions, or what type of vectors will show up as ICA dimensions."
   ]
  },
  {
   "cell_type": "markdown",
   "metadata": {},
   "source": [
    "Answer: The PCA algorithm looks for correlation among features captures the priciple axes of variation. This means it finds large general trends in the data. For this dataset, PCA could find so-called \"eigenstores\" or fundamental types of stores that the actual stores are linear combinations of. In a real-world description, I would expect these eigenstores to be common food store types like supermarkets, delis, convenience stores, etc.\n",
    "\n",
    "ICA focuses more on specific features that are idependent of one another. This makes me believe that its components will correspond to individual product categories, or groups of them that are correlated with each other."
   ]
  },
  {
   "cell_type": "markdown",
   "metadata": {},
   "source": [
    "###PCA"
   ]
  },
  {
   "cell_type": "code",
   "execution_count": 2,
   "metadata": {
    "collapsed": false
   },
   "outputs": [
    {
     "name": "stdout",
     "output_type": "stream",
     "text": [
      "[[-0.97653685 -0.12118407 -0.06154039 -0.15236462  0.00705417 -0.06810471]\n",
      " [-0.11061386  0.51580216  0.76460638 -0.01872345  0.36535076  0.05707921]\n",
      " [-0.17855726  0.50988675 -0.27578088  0.71420037 -0.20440987  0.28321747]\n",
      " [-0.04187648 -0.64564047  0.37546049  0.64629232  0.14938013 -0.02039579]\n",
      " [ 0.015986    0.20323566 -0.1602915   0.22018612  0.20793016 -0.91707659]\n",
      " [-0.01576316  0.03349187  0.41093894 -0.01328898 -0.87128428 -0.26541687]]\n"
     ]
    }
   ],
   "source": [
    "# TODO: Apply PCA with the same number of dimensions as variables in the dataset\n",
    "from sklearn.decomposition import PCA\n",
    "pca = PCA(n_components=6)\n",
    "pca.fit(data)\n",
    "\n",
    "# Print the components and the amount of variance in the data contained in each dimension\n",
    "print pca.components_\n",
    "#print pca.explained_variance_ratio_"
   ]
  },
  {
   "cell_type": "code",
   "execution_count": 6,
   "metadata": {
    "collapsed": false
   },
   "outputs": [
    {
     "data": {
      "text/plain": [
       "array([ 0.45961362,  0.40517227,  0.07003008,  0.04402344,  0.01502212,\n",
       "        0.00613848])"
      ]
     },
     "execution_count": 6,
     "metadata": {},
     "output_type": "execute_result"
    }
   ],
   "source": [
    "pca.explained_variance_ratio_"
   ]
  },
  {
   "cell_type": "code",
   "execution_count": 7,
   "metadata": {
    "collapsed": false
   },
   "outputs": [
    {
     "data": {
      "text/plain": [
       "<matplotlib.text.Text at 0x1121773d0>"
      ]
     },
     "execution_count": 7,
     "metadata": {},
     "output_type": "execute_result"
    },
    {
     "data": {
      "image/png": "[encoded data removed]",
      "text/plain": [
       "<matplotlib.figure.Figure at 0x112128a90>"
      ]
     },
     "metadata": {},
     "output_type": "display_data"
    }
   ],
   "source": [
    "# plot variance explained by each dimension\n",
    "X = np.linspace(1,6,6)\n",
    "y = pca.explained_variance_ratio_\n",
    "plt.plot(X,y)\n",
    "plt.ylabel(\"Explained Variance Ratio\")\n",
    "plt.xlabel(\"Dimension #\")\n",
    "plt.title(\"PCA Explained Variance\")"
   ]
  },
  {
   "cell_type": "markdown",
   "metadata": {},
   "source": [
    "**2)** How quickly does the variance drop off by dimension? If you were to use PCA on this dataset, how many dimensions would you choose for your analysis? Why?"
   ]
  },
  {
   "cell_type": "markdown",
   "metadata": {
    "collapsed": true
   },
   "source": [
    "Answer: The variance drops off steeply after the second dimension. I would choose 2 dimensions when using PCA on this dataset, using a cutoff of 10% of the variance explained. I could also see an argument made for using the first three dimensions, using a cutoff of 5%."
   ]
  },
  {
   "cell_type": "markdown",
   "metadata": {},
   "source": [
    "**3)** What do the dimensions seem to represent? How can you use this information?"
   ]
  },
  {
   "cell_type": "markdown",
   "metadata": {
    "collapsed": true
   },
   "source": [
    "Answer: The first dimension seems to represent simply annual spending on fresh products, with a large weight of -0.97 on that feature. It also seems to distinguish between edible and non-edible categories, placing a negative weight on all edible ones, and a positive weight on the sole inedbile category, Detergents_paper.\n",
    "\n",
    "The second dimensions has the largest weights on the Milk, Grocery, and Frozen features, at 0.52, 0.51, and -0.65 respectively. This dimension seems to be capturing, then, amount spent on these three features (the next three largest edible foods categories) not including Fresh, which was already captured in the first component. "
   ]
  },
  {
   "cell_type": "markdown",
   "metadata": {},
   "source": [
    "###ICA"
   ]
  },
  {
   "cell_type": "code",
   "execution_count": 5,
   "metadata": {
    "collapsed": false
   },
   "outputs": [],
   "source": [
    "# TODO: Fit an ICA model to the data\n",
    "# Note: Adjust the data to have center at the origin first!\n",
    "from sklearn.decomposition import FastICA\n",
    "from sklearn.preprocessing import scale\n",
    "\n",
    "numpy_matrix = data.as_matrix().astype(float)\n",
    "\n",
    "scaled_data = scale(numpy_matrix)"
   ]
  },
  {
   "cell_type": "code",
   "execution_count": 9,
   "metadata": {
    "collapsed": false
   },
   "outputs": [
    {
     "data": {
      "text/html": [
       "<div>\n",
       "<table border=\"1\" class=\"dataframe\">\n",
       "  <thead>\n",
       "    <tr style=\"text-align: right;\">\n",
       "      <th></th>\n",
       "      <th>0</th>\n",
       "      <th>1</th>\n",
       "      <th>2</th>\n",
       "      <th>3</th>\n",
       "      <th>4</th>\n",
       "      <th>5</th>\n",
       "    </tr>\n",
       "  </thead>\n",
       "  <tbody>\n",
       "    <tr>\n",
       "      <th>0</th>\n",
       "      <td>0.052933</td>\n",
       "      <td>0.523568</td>\n",
       "      <td>-0.041115</td>\n",
       "      <td>-0.589367</td>\n",
       "      <td>-0.043569</td>\n",
       "      <td>-0.066339</td>\n",
       "    </tr>\n",
       "    <tr>\n",
       "      <th>1</th>\n",
       "      <td>-0.391302</td>\n",
       "      <td>0.544458</td>\n",
       "      <td>0.170318</td>\n",
       "      <td>-0.270136</td>\n",
       "      <td>0.086407</td>\n",
       "      <td>0.089151</td>\n",
       "    </tr>\n",
       "    <tr>\n",
       "      <th>2</th>\n",
       "      <td>-0.447029</td>\n",
       "      <td>0.408538</td>\n",
       "      <td>-0.028157</td>\n",
       "      <td>-0.137536</td>\n",
       "      <td>0.133232</td>\n",
       "      <td>2.243293</td>\n",
       "    </tr>\n",
       "    <tr>\n",
       "      <th>3</th>\n",
       "      <td>0.100111</td>\n",
       "      <td>-0.624020</td>\n",
       "      <td>-0.392977</td>\n",
       "      <td>0.687144</td>\n",
       "      <td>-0.498588</td>\n",
       "      <td>0.093411</td>\n",
       "    </tr>\n",
       "    <tr>\n",
       "      <th>4</th>\n",
       "      <td>0.840239</td>\n",
       "      <td>-0.052396</td>\n",
       "      <td>-0.079356</td>\n",
       "      <td>0.173859</td>\n",
       "      <td>-0.231918</td>\n",
       "      <td>1.299347</td>\n",
       "    </tr>\n",
       "  </tbody>\n",
       "</table>\n",
       "</div>"
      ],
      "text/plain": [
       "          0         1         2         3         4         5\n",
       "0  0.052933  0.523568 -0.041115 -0.589367 -0.043569 -0.066339\n",
       "1 -0.391302  0.544458  0.170318 -0.270136  0.086407  0.089151\n",
       "2 -0.447029  0.408538 -0.028157 -0.137536  0.133232  2.243293\n",
       "3  0.100111 -0.624020 -0.392977  0.687144 -0.498588  0.093411\n",
       "4  0.840239 -0.052396 -0.079356  0.173859 -0.231918  1.299347"
      ]
     },
     "execution_count": 9,
     "metadata": {},
     "output_type": "execute_result"
    }
   ],
   "source": [
    "df = pd.DataFrame(scaled_data)\n",
    "df.head()"
   ]
  },
  {
   "cell_type": "code",
   "execution_count": 10,
   "metadata": {
    "collapsed": false
   },
   "outputs": [
    {
     "data": {
      "text/plain": [
       "array([ -2.42230478e-17,  -1.58963751e-17,  -6.03052961e-17,\n",
       "         1.13545537e-17,  -1.91765795e-17,  -8.27620800e-17])"
      ]
     },
     "execution_count": 10,
     "metadata": {},
     "output_type": "execute_result"
    }
   ],
   "source": [
    "scaled_data.mean(axis=0)"
   ]
  },
  {
   "cell_type": "code",
   "execution_count": 11,
   "metadata": {
    "collapsed": false
   },
   "outputs": [
    {
     "data": {
      "text/plain": [
       "array([ 1.,  1.,  1.,  1.,  1.,  1.])"
      ]
     },
     "execution_count": 11,
     "metadata": {},
     "output_type": "execute_result"
    }
   ],
   "source": [
    "scaled_data.std(axis=0)"
   ]
  },
  {
   "cell_type": "code",
   "execution_count": 9,
   "metadata": {
    "collapsed": false
   },
   "outputs": [
    {
     "name": "stdout",
     "output_type": "stream",
     "text": [
      "[[ 0.00194198  0.07257656 -0.05516439 -0.00176319  0.01580981 -0.0170613 ]\n",
      " [-0.00377719  0.01704285  0.11435136 -0.00709698 -0.13431947 -0.01614196]\n",
      " [ 0.00488239  0.00161847  0.00569759  0.0025317  -0.00242709 -0.05096443]\n",
      " [ 0.00265506 -0.01387399  0.06121121  0.0019801  -0.00408808 -0.00412691]\n",
      " [-0.05022853  0.00633848  0.00596863  0.00328321 -0.00986164  0.00293241]\n",
      " [ 0.01092951  0.00103627 -0.00734661 -0.05404965  0.00264022  0.01676653]]\n"
     ]
    }
   ],
   "source": [
    "ica = FastICA()\n",
    "ica.fit(scaled_data)\n",
    "\n",
    "# Print the independent components\n",
    "print ica.components_"
   ]
  },
  {
   "cell_type": "markdown",
   "metadata": {},
   "source": [
    "**4)** For each vector in the ICA decomposition, write a sentence or two explaining what sort of object or property it corresponds to. What could these components be used for?"
   ]
  },
  {
   "cell_type": "markdown",
   "metadata": {
    "collapsed": true
   },
   "source": [
    "Answer: Since the features in this datset come from the buying behavior of stores, the components of the ICA likely capture different types of stores.\n",
    "\n",
    "The first component of ICA weights the 2nd, 3rd, 5th and 6th features most heavily, which are the Milk, Grocery, Detergents_Paper, and Delicatessen features respectively. This could represent a convenience store with some groceries, a fridge with milk, inedible household supplies and a deli counter (common in NY). \n",
    "\n",
    "The second component weights the Fresh and Detergents_paper features most heavily, which could represent a normal supermarket that features a large produce section and lots of non-edible goods as well.\n",
    "\n",
    "The third component has similar weights to the first component, though it has a noticeably larger weight of -0.13 on the Detergents_Paper feature. This likely captures buyers that maybe have some food products but mostly sell non-edible goods (like a drug store).\n",
    "\n",
    "Skipping to the last component, it's heaviest weight of 0.051 is on the Delicatessen feature, and this is straightforward, captures buyers that are delis."
   ]
  },
  {
   "cell_type": "markdown",
   "metadata": {},
   "source": [
    "##Clustering\n",
    "\n",
    "In this section you will choose either K Means clustering or Gaussian Mixed Models clustering, which implements expectation-maximization. Then you will sample elements from the clusters to understand their significance."
   ]
  },
  {
   "cell_type": "markdown",
   "metadata": {},
   "source": [
    "###Choose a Cluster Type\n",
    "\n",
    "**5)** What are the advantages of using K Means clustering or Gaussian Mixture Models?"
   ]
  },
  {
   "cell_type": "markdown",
   "metadata": {},
   "source": [
    "Answer: The K Means algorithm uses hard assignment, meaning every point is assigned to a cluster at every iteration. This is in contrast to a GMM which uses soft assignment, meaning points are given probabilities of belonging to a cluster. GMMs are flexible to fitting clusters to the data that vary in size and shape. On the other hand, K Means  suffers when the data clusters are not spherical in shape, and when one cluster in large in size or has greater variance than others.\n",
    "\n",
    "Another important consideration is the size of the dataset. K Means is computationally efficient with an average runtime of O(k n T), where k is the number of samples and T is the number of iterations through the loop, according to Scikit-Learn's documentation. This means it is particularly advantageous to use K Means with a large dataset, when memory or runtime become limiting factors. Since we are working with a small dataset of 440 by 6, algorithm performance doesn't need to be considered when choosing one.\n",
    "\n",
    "Therefore, let's plot the data after reducing its dimensionality via PCA, and determine whether K Means or a GMM is more appropriate."
   ]
  },
  {
   "cell_type": "markdown",
   "metadata": {},
   "source": [
    "**6)** Below is some starter code to help you visualize some cluster data. The visualization is based on [this demo](http://scikit-learn.org/stable/auto_examples/cluster/plot_kmeans_digits.html) from the sklearn documentation."
   ]
  },
  {
   "cell_type": "code",
   "execution_count": 3,
   "metadata": {
    "collapsed": true
   },
   "outputs": [],
   "source": [
    "# Import clustering modules\n",
    "from sklearn.cluster import KMeans\n",
    "from sklearn.mixture import GMM"
   ]
  },
  {
   "cell_type": "code",
   "execution_count": 6,
   "metadata": {
    "collapsed": false
   },
   "outputs": [
    {
     "name": "stdout",
     "output_type": "stream",
     "text": [
      "[[-0.19329055  0.30509996]\n",
      " [-0.4344199   0.32841262]\n",
      " [-0.81114323 -0.8150957 ]\n",
      " [ 0.77864783 -0.65275373]\n",
      " [-0.16628726 -1.27143372]\n",
      " [ 0.15616993  0.29514099]\n",
      " [ 0.3352884   0.52500326]\n",
      " [-0.14058643  0.23099269]\n",
      " [ 0.51731954  0.65936283]\n",
      " [-1.59210908  0.74101133]]\n"
     ]
    }
   ],
   "source": [
    "# TODO: First we reduce the data to two dimensions using PCA to capture variation\n",
    "pca = PCA(n_components=2)\n",
    "reduced_data = pca.fit_transform(scaled_data)\n",
    "print reduced_data[:10]  # print upto 10 elements"
   ]
  },
  {
   "cell_type": "code",
   "execution_count": 7,
   "metadata": {
    "collapsed": false
   },
   "outputs": [
    {
     "data": {
      "text/plain": [
       "array([ 0.44082893,  0.283764  ])"
      ]
     },
     "execution_count": 7,
     "metadata": {},
     "output_type": "execute_result"
    }
   ],
   "source": [
    "pca.explained_variance_ratio_"
   ]
  },
  {
   "cell_type": "code",
   "execution_count": 8,
   "metadata": {
    "collapsed": false
   },
   "outputs": [
    {
     "data": {
      "text/plain": [
       "array([[-0.04288396, -0.54511832, -0.57925635, -0.05118859, -0.5486402 ,\n",
       "        -0.24868198],\n",
       "       [-0.52793212, -0.08316765,  0.14608818, -0.61127764,  0.25523316,\n",
       "        -0.50420705]])"
      ]
     },
     "execution_count": 8,
     "metadata": {},
     "output_type": "execute_result"
    }
   ],
   "source": [
    "pca.components_"
   ]
  },
  {
   "cell_type": "code",
   "execution_count": 9,
   "metadata": {
    "collapsed": false
   },
   "outputs": [
    {
     "data": {
      "text/plain": [
       "<matplotlib.collections.PathCollection at 0x115d90f90>"
      ]
     },
     "execution_count": 9,
     "metadata": {},
     "output_type": "execute_result"
    },
    {
     "data": {
      "image/png": "[encoded data removed]",
      "text/plain": [
       "<matplotlib.figure.Figure at 0x115c91e90>"
      ]
     },
     "metadata": {},
     "output_type": "display_data"
    }
   ],
   "source": [
    "plt.scatter(reduced_data[:,0], reduced_data[:,1])\n"
   ]
  },
  {
   "cell_type": "code",
   "execution_count": 10,
   "metadata": {
    "collapsed": false
   },
   "outputs": [],
   "source": [
    "reduced_data = reduced_data[~((reduced_data[:,0]<-5) & (reduced_data[:,1]<-5))]\n",
    "reduced_data = reduced_data[~((reduced_data[:,0]<-5) | (reduced_data[:,1]<-5))]"
   ]
  },
  {
   "cell_type": "code",
   "execution_count": 11,
   "metadata": {
    "collapsed": false
   },
   "outputs": [
    {
     "data": {
      "text/plain": [
       "<matplotlib.collections.PathCollection at 0x115ebca10>"
      ]
     },
     "execution_count": 11,
     "metadata": {},
     "output_type": "execute_result"
    },
    {
     "data": {
      "image/png": "[encoded data removed]",
      "text/plain": [
       "<matplotlib.figure.Figure at 0x115cf4f10>"
      ]
     },
     "metadata": {},
     "output_type": "display_data"
    }
   ],
   "source": [
    "plt.scatter(reduced_data[:,0], reduced_data[:,1])"
   ]
  },
  {
   "cell_type": "code",
   "execution_count": 12,
   "metadata": {
    "collapsed": false
   },
   "outputs": [
    {
     "data": {
      "text/plain": [
       "(429, 2)"
      ]
     },
     "execution_count": 12,
     "metadata": {},
     "output_type": "execute_result"
    }
   ],
   "source": [
    "reduced_data.shape"
   ]
  },
  {
   "cell_type": "code",
   "execution_count": null,
   "metadata": {
    "collapsed": true
   },
   "outputs": [],
   "source": [
    "# Now the reduced data looks better for clustering. I achieved this by removing outlier points\n",
    "# That were either less than -5 on one or both axes.\n",
    "# It is still not spherical in shape, so we'll use a GMM to fit the clusters."
   ]
  },
  {
   "cell_type": "code",
   "execution_count": 13,
   "metadata": {
    "collapsed": false
   },
   "outputs": [],
   "source": [
    "# TODO: Implement your clustering algorithm here, and fit it to the reduced data for visualization\n",
    "# The visualizer below assumes your clustering object is named 'clusters'\n",
    "\n",
    "bics = []\n",
    "for i in range(1,8):\n",
    "    gmm = GMM(n_components=i)\n",
    "    gmm.fit(reduced_data)\n",
    "    bic = gmm.bic(reduced_data)\n",
    "    bics.append(bic)\n",
    "\n",
    "#clusters = gmm.fit(reduced_data)\n",
    "#print clusters\n",
    "\n",
    "#gmm = GMM(n_components=6)\n",
    "#clusters = gmm.fit(reduced_data)\n",
    "#print clusters"
   ]
  },
  {
   "cell_type": "code",
   "execution_count": 14,
   "metadata": {
    "collapsed": false
   },
   "outputs": [
    {
     "data": {
      "text/plain": [
       "[2510.6103495368279,\n",
       " 2189.9811348448629,\n",
       " 2087.6709809020176,\n",
       " 2075.9255492840098,\n",
       " 2044.6954634767658,\n",
       " 2064.1677342518101,\n",
       " 2077.5879612185049]"
      ]
     },
     "execution_count": 14,
     "metadata": {},
     "output_type": "execute_result"
    }
   ],
   "source": [
    "bics"
   ]
  },
  {
   "cell_type": "code",
   "execution_count": 15,
   "metadata": {
    "collapsed": false
   },
   "outputs": [
    {
     "data": {
      "text/plain": [
       "<matplotlib.collections.PathCollection at 0x115feaad0>"
      ]
     },
     "execution_count": 15,
     "metadata": {},
     "output_type": "execute_result"
    },
    {
     "data": {
      "image/png": "[encoded data removed]",
      "text/plain": [
       "<matplotlib.figure.Figure at 0x115ed57d0>"
      ]
     },
     "metadata": {},
     "output_type": "display_data"
    }
   ],
   "source": [
    "plt.scatter(np.linspace(1,7,7), bics)"
   ]
  },
  {
   "cell_type": "code",
   "execution_count": 151,
   "metadata": {
    "collapsed": true
   },
   "outputs": [],
   "source": [
    "# based on this graph of the BIC score of the gmm fit, I'll chose number of clusters to be three.\n",
    "# This is when the graph of the BICs (Bayesian Information Criterion) flattens out and ceases to improve (get lower)\n",
    "# For comparison, I'll also fit a GMM with the number of clusters set to 2, to see how the data converges."
   ]
  },
  {
   "cell_type": "code",
   "execution_count": 19,
   "metadata": {
    "collapsed": false
   },
   "outputs": [
    {
     "name": "stdout",
     "output_type": "stream",
     "text": [
      "GMM(covariance_type='diag', init_params='wmc', min_covar=0.001,\n",
      "  n_components=3, n_init=1, n_iter=100, params='wmc', random_state=None,\n",
      "  thresh=None, tol=0.001)\n"
     ]
    }
   ],
   "source": [
    "# fitting best gmm model with 3 clusters\n",
    "gmm = GMM(n_components=3)\n",
    "clusters = gmm.fit(reduced_data)\n",
    "print clusters"
   ]
  },
  {
   "cell_type": "code",
   "execution_count": 25,
   "metadata": {
    "collapsed": false
   },
   "outputs": [
    {
     "name": "stdout",
     "output_type": "stream",
     "text": [
      "GMM(covariance_type='diag', init_params='wmc', min_covar=0.001,\n",
      "  n_components=2, n_init=1, n_iter=100, params='wmc', random_state=None,\n",
      "  thresh=None, tol=0.001)\n"
     ]
    }
   ],
   "source": [
    "# fitting gmm model with 2 clusters\n",
    "gmm2 = GMM(n_components=2)\n",
    "clusters2 = gmm2.fit(reduced_data)\n",
    "print clusters2"
   ]
  },
  {
   "cell_type": "code",
   "execution_count": 26,
   "metadata": {
    "collapsed": false
   },
   "outputs": [],
   "source": [
    "# Plot the decision boundary by building a mesh grid to populate a graph.\n",
    "x_min, x_max = reduced_data[:, 0].min() - 1, reduced_data[:, 0].max() + 1\n",
    "y_min, y_max = reduced_data[:, 1].min() - 1, reduced_data[:, 1].max() + 1\n",
    "hx = (x_max-x_min)/1000.\n",
    "hy = (y_max-y_min)/1000.\n",
    "xx, yy = np.meshgrid(np.arange(x_min, x_max, hx), np.arange(y_min, y_max, hy))\n",
    "\n",
    "# Obtain labels for each point in mesh. Use last trained model.\n",
    "Z = clusters.predict(np.c_[xx.ravel(), yy.ravel()])\n",
    "Z2 = clusters2.predict(np.c_[xx.ravel(), yy.ravel()])\n"
   ]
  },
  {
   "cell_type": "code",
   "execution_count": 27,
   "metadata": {
    "collapsed": false
   },
   "outputs": [
    {
     "name": "stdout",
     "output_type": "stream",
     "text": [
      "[[ 0.94901992  0.08307703]\n",
      " [-0.88764135  0.79111673]\n",
      " [ 0.0113212  -0.86926139]]\n"
     ]
    }
   ],
   "source": [
    "# TODO: Find the centroids for KMeans or the cluster means for GMM \n",
    "\n",
    "centroids = gmm.means_\n",
    "print centroids"
   ]
  },
  {
   "cell_type": "code",
   "execution_count": 28,
   "metadata": {
    "collapsed": false
   },
   "outputs": [
    {
     "name": "stdout",
     "output_type": "stream",
     "text": [
      "[[-0.51677449  0.01255996]\n",
      " [ 0.9358498   0.08823525]]\n"
     ]
    }
   ],
   "source": [
    "centroids2 = gmm2.means_\n",
    "print centroids2"
   ]
  },
  {
   "cell_type": "code",
   "execution_count": 155,
   "metadata": {
    "collapsed": false
   },
   "outputs": [
    {
     "data": {
      "image/png": "[encoded data removed]",
      "text/plain": [
       "<matplotlib.figure.Figure at 0x1181a1990>"
      ]
     },
     "metadata": {},
     "output_type": "display_data"
    }
   ],
   "source": [
    "# Put the result of the first GMM into a color plot\n",
    "Z = Z.reshape(xx.shape)\n",
    "plt.figure(1)\n",
    "plt.clf()\n",
    "plt.imshow(Z, interpolation='nearest',\n",
    "           extent=(xx.min(), xx.max(), yy.min(), yy.max()),\n",
    "           cmap=plt.cm.Paired,\n",
    "           aspect='auto', origin='lower')\n",
    "\n",
    "plt.plot(reduced_data[:, 0], reduced_data[:, 1], 'k.', markersize=2)\n",
    "plt.scatter(centroids[:, 0], centroids[:, 1],\n",
    "            marker='x', s=169, linewidths=3,\n",
    "            color='w', zorder=10)\n",
    "plt.title('Clustering on the wholesale grocery dataset (PCA-reduced data)\\n'\n",
    "          'Centroids are marked with white cross')\n",
    "plt.xlim(x_min, x_max)\n",
    "plt.ylim(y_min, y_max)\n",
    "plt.xticks(())\n",
    "plt.yticks(())\n",
    "plt.show()"
   ]
  },
  {
   "cell_type": "code",
   "execution_count": 29,
   "metadata": {
    "collapsed": false
   },
   "outputs": [
    {
     "data": {
      "image/png": "[encoded data removed]",
      "text/plain": [
       "<matplotlib.figure.Figure at 0x115de8310>"
      ]
     },
     "metadata": {},
     "output_type": "display_data"
    }
   ],
   "source": [
    "# Put the result of the second GMM into a color plot\n",
    "Z2 = Z2.reshape(xx.shape)\n",
    "plt.figure(1)\n",
    "plt.clf()\n",
    "plt.imshow(Z2, interpolation='nearest',\n",
    "           extent=(xx.min(), xx.max(), yy.min(), yy.max()),\n",
    "           cmap=plt.cm.Paired,\n",
    "           aspect='auto', origin='lower')\n",
    "\n",
    "plt.plot(reduced_data[:, 0], reduced_data[:, 1], 'k.', markersize=2)\n",
    "plt.scatter(centroids2[:, 0], centroids2[:, 1],\n",
    "            marker='x', s=169, linewidths=3,\n",
    "            color='w', zorder=10)\n",
    "plt.title('Clustering on the wholesale grocery dataset (PCA-reduced data)\\n'\n",
    "          'Centroids are marked with white cross')\n",
    "plt.xlim(x_min, x_max)\n",
    "plt.ylim(y_min, y_max)\n",
    "plt.xticks(())\n",
    "plt.yticks(())\n",
    "plt.show()"
   ]
  },
  {
   "cell_type": "markdown",
   "metadata": {},
   "source": [
    "Comparing the graph of the 3-cluster GMM with the 2-cluster GMM, it appears the top right cluster stayed\n",
    "mostly constant, while the two large clusters to the left merged into one giant cluster. Depending on how granular we want be with our customer segmentation, we could choose to work with the 2 cluster segmentation or 3 cluster.\n",
    "\n",
    "It is my opinion that the 3 cluster fit is superior, however. With 2 clusters, the left cluster does not represent the customers in a meaningful way since they are simply too spread out. While the three-cluster fit does suffer from the same problem to an extent, it's fitting of the customers not in the first (top right) cluster does fit the data better. \n",
    "\n",
    "Let's look at what the cluster centers represent in terms of the features.\n"
   ]
  },
  {
   "cell_type": "markdown",
   "metadata": {},
   "source": [
    "**7)** What are the central objects in each cluster? Describe them as customers."
   ]
  },
  {
   "cell_type": "code",
   "execution_count": 31,
   "metadata": {
    "collapsed": true
   },
   "outputs": [],
   "source": [
    "# Answer: If we look back to the pca components for this reduced data, we see that the first component\n",
    "# weighs the 2nd, 3rd, and 5th features most heavily, and the second component weighs the 1st, 4th, and 6th most\n",
    "# heavily. This means the first component corresponds primarily to a combination of the Milk, Grocery, Detergents_Paper\n",
    "# features, and the second component corresponds primarily to a combination of the Fresh, Frozen and Delicatessan \n",
    "# features.\n",
    "\n",
    "# In addition, some summary statistics of the attributes are copied below:\n",
    "\n",
    "# Attribute: (Minimum, Maximum, Mean, Std. Deviation)\n",
    "#     Fresh: ( 3, 112151, 12000.30, 12647.329)\n",
    "#     Milk: (55, 73498, 5796.27, 7380.377)\n",
    "#     Grocery: (3, 92780, 7951.28, 9503.163)\n",
    "#     Frozen: (25, 60869, 3071.93, 4854.673)\n",
    "#     Detergents_Paper: (3, 40827, 2881.49, 4767.854)\n",
    "#     Delicatessen: (3, 47943, 1524.87, 2820.106)\n",
    "\n",
    "# With this information in mind, it will help us interpret the types of stores represented by the three clusters.\n",
    "# The first cluster, centered at (0.95, 0.08) is comprised of stores that scored highly in the first component,\n",
    "# and about average in the second component. This reminds me of a supermarket store that focuses on Groceries\n",
    "# but also sells at least an average amount of everything.\n",
    "\n",
    "# In terms of the original features, this would be a store that purchases one standard deviation above average\n",
    "# in the Milk, Grocery, and Detergents_Paper features, and about average in the Fresh, Frozen and Delicatessan \n",
    "# features. Although these are rough estimates, that equates to average annual spending for a store in the\n",
    "# first cluster of:\n",
    "\n",
    "# Fresh: 12,000 m.u.'s (mean) \n",
    "# Milk: 13,716 m.u.'s (mean + one std.) \n",
    "# Grocery: 17,454 m.u.'s (mean + one std.) \n",
    "# Frozen: 3,072 m.u.'s (mean) \n",
    "# Detergents_Paper: 7,648 m.u.'s (mean + one std.)  \n",
    "# Delicatessen: 1,524 m.u.'s (mean)\n",
    "\n",
    "# The second cluster, centered at (-0.89, 0.79), captures stores that likely sell a specific item\n",
    "# like a fresh fruit/vegetable stand or a deli. In terms of the original features,\n",
    "# this would be a store that purchases 90% one standard deviation below average in\n",
    "# the Milk, Grocery, and Detergents_Paper features, and about 80% of one standard dev. above in \n",
    "# the Fresh, Frozen and Delicatessan features. Although these are estimates, that equates to average annual \n",
    "# spending for a store in the second cluster of:\n",
    "\n",
    "# Fresh: 22,118 m.u.'s (mean + 80% of one std.)\n",
    "# Milk: 0 m.u.'s (mean - 90% of one std. floored at 0)\n",
    "# Grocery: 0 m.u.'s (mean - 90% of one std. floored at 0)\n",
    "# Frozen: 6,954 m.u.'s (mean + 80% of one std.) \n",
    "# Detergents_Paper: 0 m.u.'s (mean - 90% of one std. floored at 0)\n",
    "# Delicatessen: 3,781 m.u.'s (mean + 80% of one std.)\n",
    "\n",
    "# The final cluster, centered at (0.01, -0.87) is capturing stores that are about average in the first component \n",
    "# but do not puchase much in the second component. My intuition is these are smaller supermarket-type stores\n",
    "# that don't buy as much of the first component as the first cluster, and are too small for deli counters,\n",
    "# or large produce and frozen foods sections.\n",
    "\n",
    "# In terms of the feature categories, stores in the third cluster\n",
    "# (which, like the second cluster, is not a particularly homogenous group of stores) would purchase approximately\n",
    "# the following amounts:\n",
    "\n",
    "# Fresh: 997 m.u.'s (mean - 87% of one std.)\n",
    "# Milk: 5,796 m.u.'s (mean)\n",
    "# Grocery: 7,951 m.u.'s (mean)\n",
    "# Frozen: 0 m.u.'s (mean - 87% of one std. floored at 0) \n",
    "# Detergents_Paper: 2,881 m.u.'s (mean)\n",
    "# Delicatessen: 0 m.u.'s (mean - 87% of one std. floored at 0)\n"
   ]
  },
  {
   "cell_type": "markdown",
   "metadata": {},
   "source": [
    "###Conclusions\n",
    "\n",
    "** 8)** Which of these techniques did you feel gave you the most insight into the data?"
   ]
  },
  {
   "cell_type": "markdown",
   "metadata": {
    "collapsed": true
   },
   "source": [
    "Answer: I felt like PCA was a better fit for reducing this data. The first four components were able to explain over 95% of the variance in the original data. I also found it useful to see which of the features were weighted heavily in the same component and learn from that the types goods the distributor's customers bought together.\n",
    "\n",
    "Using PCA to reduce the data to two dimensions, while still retaining 72% of the variation in the original data, was immensely helpful to plot the data and easily visualize its structure. Although plotting the reduced data didn't result in the archetypal spherical-blobs to which a clustering algorithm can easily be fit, using a GMM on the scaled and reduced data did show that there is one particular cluster (in the upper right) that largely persists regardless the number of clusters chosen. This is a valuable insight for the wholesaler distributor in terms of understanding its customers. With this information it can choose to strengthen its core business with those tightly clustered customers, or see the \"blue ocean\" areas of the graph where it lacks customers and devise a way to expand into that space."
   ]
  },
  {
   "cell_type": "markdown",
   "metadata": {
    "collapsed": true
   },
   "source": [
    "**9)** How would you use that technique to help the company design new experiments?"
   ]
  },
  {
   "cell_type": "markdown",
   "metadata": {},
   "source": [
    "Answer: Based on the information learned form this study, I would experiment with bundling the storing & shipping of types of goods that are frequently bought together by clustered store types. We saw that the Milk, Grocery, and Detergents_Paper features were heavily weighted inthe first component of the PCA-reduced dataset. Perhaps storing these items near each other in the warehouse can reduce delivery costs, since they are more likely to be bought together. I would investigated the effect of different goods storage systems on delivery costs and times, all else equal."
   ]
  },
  {
   "cell_type": "markdown",
   "metadata": {},
   "source": [
    "**10)** How would you use that data to help you predict future customer needs?"
   ]
  },
  {
   "cell_type": "markdown",
   "metadata": {},
   "source": [
    "Answer: I would label different customers are elastic or inelastic to price based on the price varying done in the A/B testing. Then using those labels as the \"truth\" and statistics on the customer (like size or years as customer) as the features, I could train a neural network to determine if new customers will be elastic or inelastic to price changes.\n",
    "\n",
    "I would attempt to predict customer orders before they occur by fitting a time-series model like an ARMA model to the data. Instead of fitting one model for all the data, I would fit one ARMA model per each cluster's sales to get better granularity in the results. This would require adding a time feature to the data, which is important because many stores likely place orders with periodic regularity."
   ]
  }
 ],
 "metadata": {
  "kernelspec": {
   "display_name": "Python 2",
   "language": "python",
   "name": "python2"
  },
  "language_info": {
   "codemirror_mode": {
    "name": "ipython",
    "version": 2
   },
   "file_extension": ".py",
   "mimetype": "text/x-python",
   "name": "python",
   "nbconvert_exporter": "python",
   "pygments_lexer": "ipython2",
   "version": "2.7.10"
  }
 },
 "nbformat": 4,
 "nbformat_minor": 0
}
